{
  "nbformat": 4,
  "nbformat_minor": 0,
  "metadata": {
    "colab": {
      "name": "PDF Reader 2",
      "provenance": [],
      "collapsed_sections": [],
      "include_colab_link": true
    },
    "kernelspec": {
      "name": "python3",
      "display_name": "Python 3"
    }
  },
  "cells": [
    {
      "cell_type": "markdown",
      "metadata": {
        "id": "view-in-github",
        "colab_type": "text"
      },
      "source": [
        "<a href=\"https://colab.research.google.com/github/NickSlanec/PDF-reader-for-sev/blob/main/PDF_Reader_2.ipynb\" target=\"_parent\"><img src=\"https://colab.research.google.com/assets/colab-badge.svg\" alt=\"Open In Colab\"/></a>"
      ]
    },
    {
      "cell_type": "code",
      "metadata": {
        "id": "WjK9A03-HIxo",
        "colab": {
          "base_uri": "https://localhost:8080/"
        },
        "outputId": "bb9368e6-8896-4941-8c27-db2e83590ab3"
      },
      "source": [
        "pip install pdfminer.six"
      ],
      "execution_count": null,
      "outputs": [
        {
          "output_type": "stream",
          "text": [
            "Requirement already satisfied: pdfminer.six in /usr/local/lib/python3.6/dist-packages (20201018)\n",
            "Requirement already satisfied: sortedcontainers in /usr/local/lib/python3.6/dist-packages (from pdfminer.six) (2.3.0)\n",
            "Requirement already satisfied: chardet; python_version > \"3.0\" in /usr/local/lib/python3.6/dist-packages (from pdfminer.six) (3.0.4)\n",
            "Requirement already satisfied: cryptography in /usr/local/lib/python3.6/dist-packages (from pdfminer.six) (3.3.1)\n",
            "Requirement already satisfied: six>=1.4.1 in /usr/local/lib/python3.6/dist-packages (from cryptography->pdfminer.six) (1.15.0)\n",
            "Requirement already satisfied: cffi>=1.12 in /usr/local/lib/python3.6/dist-packages (from cryptography->pdfminer.six) (1.14.4)\n",
            "Requirement already satisfied: pycparser in /usr/local/lib/python3.6/dist-packages (from cffi>=1.12->cryptography->pdfminer.six) (2.20)\n"
          ],
          "name": "stdout"
        }
      ]
    },
    {
      "cell_type": "code",
      "metadata": {
        "id": "za_k5QweJXFm"
      },
      "source": [
        "import pandas as pd\n",
        "import math\n",
        "# taken from pdfminer.six documentation: https://pdfminersix.readthedocs.io/en/latest/tutorial/composable.html\n",
        "from io import StringIO\n",
        "from pdfminer.converter import TextConverter\n",
        "from pdfminer.layout import LAParams\n",
        "from pdfminer.pdfdocument import PDFDocument\n",
        "from pdfminer.pdfinterp import PDFResourceManager, PDFPageInterpreter\n",
        "from pdfminer.pdfpage import PDFPage\n",
        "from pdfminer.pdfparser import PDFParser\n",
        "\n",
        "output_string = StringIO()\n",
        "with open('Dataset.pdf', 'rb') as in_file:\n",
        "    parser = PDFParser(in_file)\n",
        "    doc = PDFDocument(parser)\n",
        "    rsrcmgr = PDFResourceManager()\n",
        "    device = TextConverter(rsrcmgr, output_string, laparams=LAParams())\n",
        "    interpreter = PDFPageInterpreter(rsrcmgr, device)\n",
        "    for page in PDFPage.create_pages(doc):\n",
        "        interpreter.process_page(page)\n",
        "\n",
        "text = output_string.getvalue()"
      ],
      "execution_count": null,
      "outputs": []
    },
    {
      "cell_type": "code",
      "metadata": {
        "id": "IjOJkATgOY3y"
      },
      "source": [
        "def getMolarity(input):\n",
        "  print(input)\n",
        "  rawnumber = input[1][7:17]\n",
        "  splitnumber = rawnumber.split('e')\n",
        "  number = (float(splitnumber[0]))\n",
        "  exponent = (splitnumber[1])\n",
        "  if '-011' in exponent:\n",
        "    number = round(number) * .01\n",
        "    number = round(number, 1)\n",
        "  elif '-010' in exponent:\n",
        "    number = round(number) * .1\n",
        "    number = round(number, 1)\n",
        "  elif '-009' in exponent:\n",
        "    number = round(number, 1)\n",
        "  elif '-008' in exponent:\n",
        "    number = number * 10\n",
        "    number = round(number)\n",
        "  elif '-007' in exponent:\n",
        "    number = number * 100\n",
        "    number = round(number)\n",
        "  elif '-006' in exponent:\n",
        "    number = number * 1000\n",
        "    number = round(number)\n",
        "  elif '-005' in exponent:\n",
        "    number = number * 10000\n",
        "    number = round(number)\n",
        "  print(number)\n",
        "  return (number)"
      ],
      "execution_count": null,
      "outputs": []
    },
    {
      "cell_type": "code",
      "metadata": {
        "id": "Ee_-bUTlRsAn"
      },
      "source": [
        "def decodePDF(text):\n",
        "  drugs = text.split(\"\\n\\n\")\n",
        "  newdrugs = []\n",
        "  for drug in drugs:\n",
        "    if 'IC' in drug:\n",
        "      drug = drug.splitlines()\n",
        "      drug[1] = getMolarity(drug)\n",
        "      drug[2] = drug[2].split('-')[1]\n",
        "      newdrugs.append(drug)\n",
        "  return newdrugs"
      ],
      "execution_count": null,
      "outputs": []
    },
    {
      "cell_type": "code",
      "metadata": {
        "id": "D0bsf4VkSFeo",
        "colab": {
          "base_uri": "https://localhost:8080/"
        },
        "outputId": "2944556d-216a-4226-c787-34c74a9b6062"
      },
      "source": [
        "data = pd.DataFrame(decodePDF(text),columns=['Name','Nanomolarity','Hill Slope'])"
      ],
      "execution_count": null,
      "outputs": [
        {
          "output_type": "stream",
          "text": [
            "['MMV000025', 'IC50 = 9.574e-010 M', 'HS = -6.960']\n",
            "1.0\n",
            "['MMV397264', 'IC50 = 7.873e-009 M', 'HS = -3.348']\n",
            "7.9\n",
            "['MMV000024', 'IC50 = 1.876e-005 M', 'HS = -1.629']\n",
            "18760\n",
            "['MMV674253', 'IC50 = 2.441e-009 M', 'HS = -2.152']\n",
            "2.4\n",
            "['MMV390482', 'IC50 = 2.523e-008 M', 'HS = -4.250']\n",
            "25\n",
            "['MMV000014', 'IC50 = 2.042e-009 M', 'HS = -2.155']\n",
            "2.0\n",
            "['MMV000008', 'IC50 = 1.402e-008 M', 'HS = -4.020']\n",
            "14\n",
            "['MMV000022', 'IC50 = 2.362e-009 M', 'HS = -2.796']\n",
            "2.4\n",
            "['MMV000004', 'IC50 = 6.044e-010 M', 'HS = -2.769']\n",
            "0.6\n",
            "['MMV000046', 'IC50 = 2.444e-010 M', 'HS = -1.465']\n",
            "0.2\n",
            "['MMV000015', 'IC50 = 2.625e-009 M', 'HS = -1.097']\n",
            "2.6\n",
            "['MMV000019', 'IC50 = 1.346e-009 M', 'HS = -3.060']\n",
            "1.3\n",
            "['MMV000056', 'IC50 = 1.708e-009 M', 'HS = -6.172']\n",
            "1.7\n",
            "['MMV000073', 'IC50 = 3.735e-010 M', 'HS = -6.460']\n",
            "0.4\n",
            "['MMV000130', 'IC50 = 9.288e-009 M', 'HS = -1.636']\n",
            "9.3\n",
            "['MMV643121', 'IC50 = 5.372e-010 M', 'HS = -2.708']\n",
            "0.5\n",
            "['MMV034055', 'IC50 = 8.960e-009 M', 'HS = -1.307']\n",
            "9.0\n",
            "['MMV688533', 'IC50 = 3.576e-009 M*', 'HS = -5.000']\n",
            "3.6\n",
            "['MMV675867', 'IC50 = 6.813e-008 M', 'HS = -3.482']\n",
            "68\n",
            "['MMV892646', 'IC50 = 1.513e-009 M', 'HS = -1.525']\n",
            "1.5\n",
            "['MMV000002', 'IC50 = 1.574e-008 M', ' HS = -2.757']\n",
            "16\n",
            "['MMV000052', 'IC50 = 8.506e-007 M', 'HS = -1.143']\n",
            "851\n",
            "['MDAQ', 'IC50 = 6.193e-009 M', 'HS = -6.552']\n",
            "6.2\n",
            "['MMV693183', 'IC50 = 1.706e-009 M', 'HS = -2.980']\n",
            "1.7\n",
            "['MMV1582617', 'IC50 = 5.601e-010 M', 'HS = -2.573']\n",
            "0.6\n",
            "['MMV1581373', 'IC50 = 1.403e-010 M*', 'HS = -5.000']\n",
            "0.1\n",
            "['QUININE', 'IC50 = 3.340e-008 M', 'HS = -1.215']\n",
            "33\n",
            "['MMV1645072', 'IC50 = 2.811e-008 M', 'HS = -1.053']\n",
            "28\n",
            "['MMV1794229', 'IC50 = 1.184e-007 M', 'HS = -3.757']\n",
            "118\n",
            "['MMV000014_UCSF', 'IC50 = 5.452e-009 M', 'HS = -2.203']\n",
            "5.5\n",
            "['TDI0008304NX6', 'IC50 = 1.417e-008 M', 'HS = -3.823']\n",
            "14\n",
            "['MMV1793609', 'IC50 = 1.031e-007 M', 'HS = -3.427']\n",
            "103\n",
            "['MMV024406', 'IC50 = 1.291e-007 M', 'HS = -3.603']\n",
            "129\n",
            "['MMV1582427', 'IC50 = 1.542e-008 M', 'HS = -4.409']\n",
            "15\n",
            "['MMV1634382', 'IC50 = 3.720e-009 M', 'HS = -1.160']\n",
            "3.7\n",
            "['MMV1634485', 'IC50 = 7.055e-010 M', 'HS = -5.437']\n",
            "0.7\n",
            "['MMV1782321', 'IC50 = 7.112e-008 M', 'HS = -1.494']\n",
            "71\n",
            "['MMV1793207', 'IC50 = 2.717e-009 M', 'HS = -4.719']\n",
            "2.7\n",
            "['MMV1794720', 'IC50 = 2.206e-007 M', 'HS = -2.611']\n",
            "221\n",
            "['MMV1794913', 'IC50 = 8.496e-009 M*', 'HS = -1.875']\n",
            "8.5\n",
            "['MMV1796177', 'IC50 = 9.240e-006 M', 'HS = -2.001']\n",
            "9240\n",
            "['MMV1803150', 'IC50 = 2.597e-008 M', 'HS = -1.734']\n",
            "26\n",
            "['MMV1804209', 'IC50 = 2.063e-010 M*', 'HS = -5.000']\n",
            "0.2\n",
            "['MMV1804210', 'IC50 = 5.662e-010 M', 'H = -4.449']\n",
            "0.6\n",
            "['MMV1804260', 'IC50 = 2.630e-007 M', 'H = -2.628']\n",
            "263\n",
            "['MMV689256', 'IC50 = 1.638e-008 M', 'H = -1.389']\n",
            "16\n",
            "['MMV1803688', 'IC50 = 3.355e-009 M*', 'HS = -5.000']\n",
            "3.4\n"
          ],
          "name": "stdout"
        }
      ]
    },
    {
      "cell_type": "code",
      "metadata": {
        "id": "pXgqoWCzRLsu"
      },
      "source": [
        "data = data.transpose()"
      ],
      "execution_count": null,
      "outputs": []
    },
    {
      "cell_type": "code",
      "metadata": {
        "colab": {
          "base_uri": "https://localhost:8080/"
        },
        "id": "FSOiuG0AQm1O",
        "outputId": "66d46493-2458-4e81-ce45-94b4b224b7f4"
      },
      "source": [
        "print(data)"
      ],
      "execution_count": null,
      "outputs": [
        {
          "output_type": "stream",
          "text": [
            "                     0          1   ...         45          46\n",
            "Name          MMV000025  MMV397264  ...  MMV689256  MMV1803688\n",
            "Nanomolarity          1        7.9  ...         16         3.4\n",
            "Hill Slope        6.960      3.348  ...      1.389       5.000\n",
            "\n",
            "[3 rows x 47 columns]\n"
          ],
          "name": "stdout"
        }
      ]
    },
    {
      "cell_type": "code",
      "metadata": {
        "id": "R4Ejj_fjmuIC"
      },
      "source": [
        "data.to_excel('DrugMolarityOutput.xlsx')#, float_format=\"%.2G\""
      ],
      "execution_count": null,
      "outputs": []
    },
    {
      "cell_type": "code",
      "metadata": {
        "id": "eQc6GQ62fseX"
      },
      "source": [
        ""
      ],
      "execution_count": null,
      "outputs": []
    }
  ]
}